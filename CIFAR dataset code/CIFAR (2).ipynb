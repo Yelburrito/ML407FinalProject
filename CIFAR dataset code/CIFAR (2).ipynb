{
 "cells": [
  {
   "cell_type": "code",
   "execution_count": 1,
   "metadata": {},
   "outputs": [],
   "source": [
    "\n",
    "import shutil\n",
    "import numpy as np\n",
    "import pandas as pd\n",
    "import os\n"
   ]
  },
  {
   "cell_type": "code",
   "execution_count": 2,
   "metadata": {},
   "outputs": [],
   "source": [
    "train_labels = pd.read_csv(\"./dataset/trainLabels.csv\", header=\"infer\") #get train labels\n"
   ]
  },
  {
   "cell_type": "code",
   "execution_count": 3,
   "metadata": {},
   "outputs": [
    {
     "name": "stdout",
     "output_type": "stream",
     "text": [
      "['frog' 'truck' 'deer' 'automobile' 'bird' 'horse' 'ship' 'cat' 'dog'\n",
      " 'airplane']\n"
     ]
    }
   ],
   "source": [
    "classes = train_labels['label'].unique() #convert them to list of classes\n",
    "print(classes)"
   ]
  },
  {
   "cell_type": "code",
   "execution_count": 6,
   "metadata": {},
   "outputs": [],
   "source": [
    "#This part is needed to organize all pictures into folders under their real label, as preprocessing step\n",
    "if not os.path.exists(\"./dataset/valid\"):\n",
    "    os.mkdir(\"./dataset/valid\")\n",
    "    \n",
    "parent_path_train = \"./dataset/train\"\n",
    "parent_path_valid = \"./dataset/valid\"\n",
    "parent_path_test = \"./dataset/test\"\n",
    "\n",
    "for class1 in classes:\n",
    "    path_train = os.path.join(parent_path_train,class1)\n",
    "    if not os.path.exists(path_train):\n",
    "        os.mkdir(path_train)\n",
    "    path_valid = os.path.join(parent_path_valid,class1)\n",
    "    if not os.path.exists(path_valid):\n",
    "        os.mkdir(path_valid)\n",
    "        \n",
    "for (int_ind,row) in train_labels.iterrows():\n",
    "    id = str(row[\"id\"])+\".png\"\n",
    "    source_path = os.path.join(parent_path_train,id)\n",
    "    \n",
    "    p=np.random.random()\n",
    "    if p<=0.8:\n",
    "        target_path = os.path.join(parent_path_train,row[\"label\"],id)\n",
    "        os.replace(source_path, target_path)\n",
    "    else:\n",
    "        target_path = os.path.join(parent_path_valid,row[\"label\"],id)\n",
    "        os.replace(source_path, target_path)"
   ]
  },
  {
   "cell_type": "code",
   "execution_count": 4,
   "metadata": {},
   "outputs": [],
   "source": [
    "import torchvision.transforms as transforms\n",
    "from torchvision.datasets import ImageFolder\n",
    "from torch.utils.data import DataLoader\n",
    "\n",
    "#Define data transoframtions for preprocessing as well\n",
    "train_transform = transforms.Compose([\n",
    "    transforms.RandomRotation(10),\n",
    "    transforms.RandomHorizontalFlip(),\n",
    "    transforms.RandomVerticalFlip(),\n",
    "    transforms.RandomResizedCrop(32), #Flip and resize for care\n",
    "    transforms.ToTensor(),\n",
    "])\n",
    "\n",
    "valid_transform = transforms.Compose([\n",
    "    transforms.Resize(32),\n",
    "    transforms.ToTensor(),\n",
    "])\n",
    "\n",
    "#Create datasets using ImageFolder\n",
    "train_dataset = ImageFolder(root='./dataset/train/', transform=train_transform)\n",
    "valid_dataset = ImageFolder(root='./dataset/valid/', transform=valid_transform)\n",
    "\n",
    "#Create data loaders\n",
    "train_loader = DataLoader(train_dataset, batch_size=128, shuffle=True)\n",
    "valid_loader = DataLoader(valid_dataset, batch_size=128, shuffle=True)\n"
   ]
  },
  {
   "cell_type": "code",
   "execution_count": 5,
   "metadata": {},
   "outputs": [
    {
     "name": "stdout",
     "output_type": "stream",
     "text": [
      "Number of classes: 10\n",
      "Class names: ['airplane', 'automobile', 'bird', 'cat', 'deer', 'dog', 'frog', 'horse', 'ship', 'truck']\n",
      "Number of training samples: 40025\n",
      "Number of validation samples: 9975\n",
      "Shape of a sample image: torch.Size([128, 3, 32, 32])\n"
     ]
    }
   ],
   "source": [
    "#Print dataset statistics\n",
    "print(f\"Number of classes: {len(train_dataset.classes)}\")\n",
    "print(f\"Class names: {train_dataset.classes}\")\n",
    "print(f\"Number of training samples: {len(train_dataset)}\")\n",
    "print(f\"Number of validation samples: {len(valid_dataset)}\")\n",
    "\n",
    "#Print the shape of a sample image\n",
    "sample_image, sample_label = next(iter(train_loader))\n",
    "print(f\"Shape of a sample image: {sample_image.shape}\")"
   ]
  },
  {
   "cell_type": "code",
   "execution_count": 6,
   "metadata": {},
   "outputs": [],
   "source": [
    "import torch\n",
    "import torch.nn as nn\n",
    "import torch.nn.functional as F\n",
    "\n",
    "#Complex Custom CNN model which try first\n",
    "#Apparantely it is too complex but looks fun\n",
    "class CustomCNN(nn.Module):\n",
    "    def __init__(self):\n",
    "        super(CustomCNN, self).__init__()\n",
    "\n",
    "        self.conv1 = nn.Conv2d(3, 32, kernel_size=3, stride=1, padding=1, bias=False)\n",
    "        self.batchnorm1 = nn.BatchNorm2d(32)\n",
    "        self.relu1 = nn.ReLU()\n",
    "        self.dropout1 = nn.Dropout(0.3)\n",
    "\n",
    "        self.conv2 = nn.Conv2d(32, 48, kernel_size=3, stride=1, padding=0, bias=False)\n",
    "        self.batchnorm2 = nn.BatchNorm2d(48)\n",
    "        self.relu2 = nn.ReLU()\n",
    "        self.dropout2 = nn.Dropout(0.3)\n",
    "\n",
    "        self.conv3 = nn.Conv2d(48, 64, kernel_size=3, stride=1, padding=0, bias=False)\n",
    "        self.batchnorm3 = nn.BatchNorm2d(64)\n",
    "        self.relu3 = nn.ReLU()\n",
    "\n",
    "        self.conv4 = nn.Conv2d(64, 80, kernel_size=3, stride=1, padding=0, bias=False)\n",
    "        self.batchnorm4 = nn.BatchNorm2d(80)\n",
    "        self.relu4 = nn.ReLU()\n",
    "        self.dropout3 = nn.Dropout(0.3)\n",
    "\n",
    "        self.conv5 = nn.Conv2d(80, 96, kernel_size=3, stride=1, padding=0, bias=False)\n",
    "        self.batchnorm5 = nn.BatchNorm2d(96)\n",
    "        self.relu5 = nn.ReLU()\n",
    "\n",
    "        self.conv6 = nn.Conv2d(96, 128, kernel_size=3, stride=1, padding=0, bias=False)\n",
    "        self.batchnorm6 = nn.BatchNorm2d(128)\n",
    "        self.relu6 = nn.ReLU()\n",
    "        self.dropout4 = nn.Dropout(0.3)\n",
    "\n",
    "        self.flatten = nn.Flatten()\n",
    "        self.fc1 = nn.Linear(61952, 64)\n",
    "        self.batchnorm7 = nn.BatchNorm1d(64)\n",
    "        self.dropout5 = nn.Dropout(0.5)\n",
    "\n",
    "        self.fc2 = nn.Linear(64, 10)\n",
    "        self.batchnorm8 = nn.BatchNorm1d(10)\n",
    "\n",
    "    def forward(self, x):\n",
    "        x = self.dropout1(self.relu1(self.batchnorm1(self.conv1(x))))\n",
    "        x = self.dropout2(self.relu2(self.batchnorm2(self.conv2(x))))\n",
    "        x = self.relu3(self.batchnorm3(self.conv3(x)))\n",
    "        x = self.dropout3(self.relu4(self.batchnorm4(self.conv4(x))))\n",
    "        x = self.relu5(self.batchnorm5(self.conv5(x)))\n",
    "        x = self.dropout4(self.relu6(self.batchnorm6(self.conv6(x))))\n",
    "        x = self.flatten(x)\n",
    "        x = self.dropout5(self.batchnorm7(self.fc1(x)))\n",
    "        x = self.batchnorm8(self.fc2(x))\n",
    "\n",
    "        return x\n",
    "\n",
    "\n"
   ]
  },
  {
   "cell_type": "code",
   "execution_count": 11,
   "metadata": {},
   "outputs": [],
   "source": [
    "class CustomCNN2(nn.Module):\n",
    "\n",
    "    def __init__(self, out_1 = 32, out_2 = 64, out_3 = 128, number_of_classes = 10, p = 0):\n",
    "        super(CustomCNN2, self).__init__()\n",
    "        self.cnn1 = nn.Conv2d(in_channels = 3, out_channels = out_1, kernel_size = 5, padding = 2)\n",
    "        self.maxpool1 = nn.MaxPool2d(kernel_size = 2)\n",
    "        self.conv1_bn = nn.BatchNorm2d(out_1)\n",
    "        self.drop_conv = nn.Dropout(p=0.2)\n",
    "        \n",
    "        self.cnn2 = nn.Conv2d(in_channels = out_1, out_channels = out_2, kernel_size = 5, padding = 2)\n",
    "        self.maxpool2 = nn.MaxPool2d(kernel_size = 2)\n",
    "        self.conv2_bn = nn.BatchNorm2d(out_2)\n",
    "        \n",
    "        self.cnn3 = nn.Conv2d(in_channels = out_2, out_channels = out_3, kernel_size = 5, padding = 2)\n",
    "        self.maxpool3 = nn.MaxPool2d(kernel_size = 2)\n",
    "        self.conv3_bn = nn.BatchNorm2d(out_3)\n",
    "\n",
    "        self.fc1 = nn.Linear(out_3 * 4 * 4, 1000) \n",
    "        self.drop = nn.Dropout(p=p)\n",
    "        self.fc1_bn = nn.BatchNorm1d(1000)\n",
    "        \n",
    "  \n",
    "        self.fc2 = nn.Linear(1000, 1000)\n",
    "        self.fc2_bn = nn.BatchNorm1d(1000)\n",
    "\n",
    "\n",
    "        self.fc3 = nn.Linear(1000, 1000)\n",
    "        self.fc3_bn = nn.BatchNorm1d(1000)\n",
    "        \n",
    "    \n",
    "        self.fc4 = nn.Linear(1000, 1000)\n",
    "        self.fc4_bn = nn.BatchNorm1d(1000)\n",
    "        \n",
    "\n",
    "        self.fc5 = nn.Linear(1000, 10)\n",
    "        self.fc5_bn = nn.BatchNorm1d(10)\n",
    "\n",
    "    def forward(self, x):\n",
    "        \n",
    "        x = self.drop_conv(self.maxpool1(self.conv1_bn(self.cnn1(x))))\n",
    "        x = self.drop_conv(self.maxpool2(torch.relu(self.conv2_bn(self.cnn2(x)))))\n",
    "        x = self.drop_conv(self.maxpool3(torch.relu(self.conv3_bn(self.cnn3(x)))))\n",
    "        x = self.fc1_bn(self.fc1(x.view(x.size(0), -1)))\n",
    "        x = self.fc2_bn(self.fc2(F.relu(self.drop(x))))\n",
    "        x = self.fc3_bn(self.fc3(F.relu(self.drop(x))))\n",
    "        x = self.fc4_bn(self.fc4(F.relu(self.drop(x))))\n",
    "        x = self.fc5_bn(self.fc5(F.relu(self.drop(x))))\n",
    "        \n",
    "        return(x)"
   ]
  },
  {
   "cell_type": "code",
   "execution_count": 8,
   "metadata": {},
   "outputs": [
    {
     "name": "stdout",
     "output_type": "stream",
     "text": [
      "Batch 1:\n",
      "Data shape: torch.Size([128, 3, 32, 32])\n",
      "Labels shape: torch.Size([128])\n"
     ]
    },
    {
     "data": {
      "image/png": "[encoded data removed]",
      "text/plain": [
       "<Figure size 640x480 with 4 Axes>"
      ]
     },
     "metadata": {},
     "output_type": "display_data"
    },
    {
     "name": "stdout",
     "output_type": "stream",
     "text": [
      "Batch 2:\n",
      "Data shape: torch.Size([128, 3, 32, 32])\n",
      "Labels shape: torch.Size([128])\n"
     ]
    },
    {
     "data": {
      "image/png": "[encoded data removed]",
      "text/plain": [
       "<Figure size 640x480 with 4 Axes>"
      ]
     },
     "metadata": {},
     "output_type": "display_data"
    },
    {
     "name": "stdout",
     "output_type": "stream",
     "text": [
      "Batch 3:\n",
      "Data shape: torch.Size([128, 3, 32, 32])\n",
      "Labels shape: torch.Size([128])\n"
     ]
    },
    {
     "data": {
      "image/png": "[encoded data removed]",
      "text/plain": [
       "<Figure size 640x480 with 4 Axes>"
      ]
     },
     "metadata": {},
     "output_type": "display_data"
    }
   ],
   "source": [
    "import torch\n",
    "from torchvision.transforms import ToPILImage\n",
    "import matplotlib.pyplot as plt\n",
    "\n",
    "for batch_idx, (data, labels) in enumerate(train_loader):\n",
    "    #Print information about the batch\n",
    "    print(f\"Batch {batch_idx + 1}:\")\n",
    "    print(\"Data shape:\", data.shape)\n",
    "    print(\"Labels shape:\", labels.shape)\n",
    "    \n",
    "    #Visualize a few images from the batch\n",
    "    num_images_to_visualize = min(data.size(0), 4)\n",
    "    to_pil = ToPILImage()\n",
    "    \n",
    "    for i in range(num_images_to_visualize):\n",
    "        image = to_pil(data[i])\n",
    "        label = labels[i].item()\n",
    "        \n",
    "        plt.subplot(1, num_images_to_visualize, i + 1)\n",
    "        plt.imshow(image)\n",
    "        plt.title(f\"Label: {label}\")\n",
    "        plt.axis(\"off\")\n",
    "    \n",
    "    plt.show()\n",
    "    \n",
    "    if batch_idx == 2:\n",
    "        break\n"
   ]
  },
  {
   "cell_type": "code",
   "execution_count": 9,
   "metadata": {},
   "outputs": [
    {
     "name": "stdout",
     "output_type": "stream",
     "text": [
      "CUDA Available: False\n"
     ]
    }
   ],
   "source": [
    "import torch\n",
    "\n",
    "# Check if CUDA is available\n",
    "cuda_available = torch.cuda.is_available()\n",
    "\n",
    "print(f\"CUDA Available: {cuda_available}\")\n",
    "\n"
   ]
  },
  {
   "cell_type": "code",
   "execution_count": 12,
   "metadata": {
    "scrolled": false
   },
   "outputs": [
    {
     "name": "stderr",
     "output_type": "stream",
     "text": [
      "Epoch 1/128:  19%|█▉        | 61/313 [00:21<01:26,  2.90batch/s]\n"
     ]
    },
    {
     "ename": "KeyboardInterrupt",
     "evalue": "",
     "output_type": "error",
     "traceback": [
      "\u001b[0;31m---------------------------------------------------------------------------\u001b[0m",
      "\u001b[0;31mKeyboardInterrupt\u001b[0m                         Traceback (most recent call last)",
      "\u001b[1;32m/Users/dulatrakhymkul/Documents/GitHub/ML407FinalProject/CIFAR dataset code/CIFAR (2).ipynb Cell 11\u001b[0m line \u001b[0;36m4\n\u001b[1;32m     <a href='vscode-notebook-cell:/Users/dulatrakhymkul/Documents/GitHub/ML407FinalProject/CIFAR%20dataset%20code/CIFAR%20%282%29.ipynb#X13sZmlsZQ%3D%3D?line=44'>45</a>\u001b[0m inputs, labels \u001b[39m=\u001b[39m inputs\u001b[39m.\u001b[39mto(device), labels\u001b[39m.\u001b[39mto(device)\n\u001b[1;32m     <a href='vscode-notebook-cell:/Users/dulatrakhymkul/Documents/GitHub/ML407FinalProject/CIFAR%20dataset%20code/CIFAR%20%282%29.ipynb#X13sZmlsZQ%3D%3D?line=46'>47</a>\u001b[0m optimizer\u001b[39m.\u001b[39mzero_grad()\n\u001b[0;32m---> <a href='vscode-notebook-cell:/Users/dulatrakhymkul/Documents/GitHub/ML407FinalProject/CIFAR%20dataset%20code/CIFAR%20%282%29.ipynb#X13sZmlsZQ%3D%3D?line=48'>49</a>\u001b[0m outputs \u001b[39m=\u001b[39m model(inputs)\n\u001b[1;32m     <a href='vscode-notebook-cell:/Users/dulatrakhymkul/Documents/GitHub/ML407FinalProject/CIFAR%20dataset%20code/CIFAR%20%282%29.ipynb#X13sZmlsZQ%3D%3D?line=49'>50</a>\u001b[0m loss \u001b[39m=\u001b[39m criterion(outputs, labels)\n\u001b[1;32m     <a href='vscode-notebook-cell:/Users/dulatrakhymkul/Documents/GitHub/ML407FinalProject/CIFAR%20dataset%20code/CIFAR%20%282%29.ipynb#X13sZmlsZQ%3D%3D?line=50'>51</a>\u001b[0m loss\u001b[39m.\u001b[39mbackward()\n",
      "File \u001b[0;32m/Library/Frameworks/Python.framework/Versions/3.11/lib/python3.11/site-packages/torch/nn/modules/module.py:1518\u001b[0m, in \u001b[0;36mModule._wrapped_call_impl\u001b[0;34m(self, *args, **kwargs)\u001b[0m\n\u001b[1;32m   1516\u001b[0m     \u001b[39mreturn\u001b[39;00m \u001b[39mself\u001b[39m\u001b[39m.\u001b[39m_compiled_call_impl(\u001b[39m*\u001b[39margs, \u001b[39m*\u001b[39m\u001b[39m*\u001b[39mkwargs)  \u001b[39m# type: ignore[misc]\u001b[39;00m\n\u001b[1;32m   1517\u001b[0m \u001b[39melse\u001b[39;00m:\n\u001b[0;32m-> 1518\u001b[0m     \u001b[39mreturn\u001b[39;00m \u001b[39mself\u001b[39;49m\u001b[39m.\u001b[39;49m_call_impl(\u001b[39m*\u001b[39;49margs, \u001b[39m*\u001b[39;49m\u001b[39m*\u001b[39;49mkwargs)\n",
      "File \u001b[0;32m/Library/Frameworks/Python.framework/Versions/3.11/lib/python3.11/site-packages/torch/nn/modules/module.py:1527\u001b[0m, in \u001b[0;36mModule._call_impl\u001b[0;34m(self, *args, **kwargs)\u001b[0m\n\u001b[1;32m   1522\u001b[0m \u001b[39m# If we don't have any hooks, we want to skip the rest of the logic in\u001b[39;00m\n\u001b[1;32m   1523\u001b[0m \u001b[39m# this function, and just call forward.\u001b[39;00m\n\u001b[1;32m   1524\u001b[0m \u001b[39mif\u001b[39;00m \u001b[39mnot\u001b[39;00m (\u001b[39mself\u001b[39m\u001b[39m.\u001b[39m_backward_hooks \u001b[39mor\u001b[39;00m \u001b[39mself\u001b[39m\u001b[39m.\u001b[39m_backward_pre_hooks \u001b[39mor\u001b[39;00m \u001b[39mself\u001b[39m\u001b[39m.\u001b[39m_forward_hooks \u001b[39mor\u001b[39;00m \u001b[39mself\u001b[39m\u001b[39m.\u001b[39m_forward_pre_hooks\n\u001b[1;32m   1525\u001b[0m         \u001b[39mor\u001b[39;00m _global_backward_pre_hooks \u001b[39mor\u001b[39;00m _global_backward_hooks\n\u001b[1;32m   1526\u001b[0m         \u001b[39mor\u001b[39;00m _global_forward_hooks \u001b[39mor\u001b[39;00m _global_forward_pre_hooks):\n\u001b[0;32m-> 1527\u001b[0m     \u001b[39mreturn\u001b[39;00m forward_call(\u001b[39m*\u001b[39;49margs, \u001b[39m*\u001b[39;49m\u001b[39m*\u001b[39;49mkwargs)\n\u001b[1;32m   1529\u001b[0m \u001b[39mtry\u001b[39;00m:\n\u001b[1;32m   1530\u001b[0m     result \u001b[39m=\u001b[39m \u001b[39mNone\u001b[39;00m\n",
      "\u001b[1;32m/Users/dulatrakhymkul/Documents/GitHub/ML407FinalProject/CIFAR dataset code/CIFAR (2).ipynb Cell 11\u001b[0m line \u001b[0;36m4\n\u001b[1;32m     <a href='vscode-notebook-cell:/Users/dulatrakhymkul/Documents/GitHub/ML407FinalProject/CIFAR%20dataset%20code/CIFAR%20%282%29.ipynb#X13sZmlsZQ%3D%3D?line=37'>38</a>\u001b[0m \u001b[39mdef\u001b[39;00m \u001b[39mforward\u001b[39m(\u001b[39mself\u001b[39m, x):\n\u001b[1;32m     <a href='vscode-notebook-cell:/Users/dulatrakhymkul/Documents/GitHub/ML407FinalProject/CIFAR%20dataset%20code/CIFAR%20%282%29.ipynb#X13sZmlsZQ%3D%3D?line=39'>40</a>\u001b[0m     x \u001b[39m=\u001b[39m \u001b[39mself\u001b[39m\u001b[39m.\u001b[39mdrop_conv(\u001b[39mself\u001b[39m\u001b[39m.\u001b[39mmaxpool1(\u001b[39mself\u001b[39m\u001b[39m.\u001b[39mconv1_bn(\u001b[39mself\u001b[39m\u001b[39m.\u001b[39mcnn1(x))))\n\u001b[0;32m---> <a href='vscode-notebook-cell:/Users/dulatrakhymkul/Documents/GitHub/ML407FinalProject/CIFAR%20dataset%20code/CIFAR%20%282%29.ipynb#X13sZmlsZQ%3D%3D?line=40'>41</a>\u001b[0m     x \u001b[39m=\u001b[39m \u001b[39mself\u001b[39m\u001b[39m.\u001b[39mdrop_conv(\u001b[39mself\u001b[39;49m\u001b[39m.\u001b[39;49mmaxpool2(torch\u001b[39m.\u001b[39;49mrelu(\u001b[39mself\u001b[39;49m\u001b[39m.\u001b[39;49mconv2_bn(\u001b[39mself\u001b[39;49m\u001b[39m.\u001b[39;49mcnn2(x)))))\n\u001b[1;32m     <a href='vscode-notebook-cell:/Users/dulatrakhymkul/Documents/GitHub/ML407FinalProject/CIFAR%20dataset%20code/CIFAR%20%282%29.ipynb#X13sZmlsZQ%3D%3D?line=41'>42</a>\u001b[0m     x \u001b[39m=\u001b[39m \u001b[39mself\u001b[39m\u001b[39m.\u001b[39mdrop_conv(\u001b[39mself\u001b[39m\u001b[39m.\u001b[39mmaxpool3(torch\u001b[39m.\u001b[39mrelu(\u001b[39mself\u001b[39m\u001b[39m.\u001b[39mconv3_bn(\u001b[39mself\u001b[39m\u001b[39m.\u001b[39mcnn3(x)))))\n\u001b[1;32m     <a href='vscode-notebook-cell:/Users/dulatrakhymkul/Documents/GitHub/ML407FinalProject/CIFAR%20dataset%20code/CIFAR%20%282%29.ipynb#X13sZmlsZQ%3D%3D?line=42'>43</a>\u001b[0m     x \u001b[39m=\u001b[39m \u001b[39mself\u001b[39m\u001b[39m.\u001b[39mfc1_bn(\u001b[39mself\u001b[39m\u001b[39m.\u001b[39mfc1(x\u001b[39m.\u001b[39mview(x\u001b[39m.\u001b[39msize(\u001b[39m0\u001b[39m), \u001b[39m-\u001b[39m\u001b[39m1\u001b[39m)))\n",
      "File \u001b[0;32m/Library/Frameworks/Python.framework/Versions/3.11/lib/python3.11/site-packages/torch/nn/modules/module.py:1518\u001b[0m, in \u001b[0;36mModule._wrapped_call_impl\u001b[0;34m(self, *args, **kwargs)\u001b[0m\n\u001b[1;32m   1516\u001b[0m     \u001b[39mreturn\u001b[39;00m \u001b[39mself\u001b[39m\u001b[39m.\u001b[39m_compiled_call_impl(\u001b[39m*\u001b[39margs, \u001b[39m*\u001b[39m\u001b[39m*\u001b[39mkwargs)  \u001b[39m# type: ignore[misc]\u001b[39;00m\n\u001b[1;32m   1517\u001b[0m \u001b[39melse\u001b[39;00m:\n\u001b[0;32m-> 1518\u001b[0m     \u001b[39mreturn\u001b[39;00m \u001b[39mself\u001b[39;49m\u001b[39m.\u001b[39;49m_call_impl(\u001b[39m*\u001b[39;49margs, \u001b[39m*\u001b[39;49m\u001b[39m*\u001b[39;49mkwargs)\n",
      "File \u001b[0;32m/Library/Frameworks/Python.framework/Versions/3.11/lib/python3.11/site-packages/torch/nn/modules/module.py:1527\u001b[0m, in \u001b[0;36mModule._call_impl\u001b[0;34m(self, *args, **kwargs)\u001b[0m\n\u001b[1;32m   1522\u001b[0m \u001b[39m# If we don't have any hooks, we want to skip the rest of the logic in\u001b[39;00m\n\u001b[1;32m   1523\u001b[0m \u001b[39m# this function, and just call forward.\u001b[39;00m\n\u001b[1;32m   1524\u001b[0m \u001b[39mif\u001b[39;00m \u001b[39mnot\u001b[39;00m (\u001b[39mself\u001b[39m\u001b[39m.\u001b[39m_backward_hooks \u001b[39mor\u001b[39;00m \u001b[39mself\u001b[39m\u001b[39m.\u001b[39m_backward_pre_hooks \u001b[39mor\u001b[39;00m \u001b[39mself\u001b[39m\u001b[39m.\u001b[39m_forward_hooks \u001b[39mor\u001b[39;00m \u001b[39mself\u001b[39m\u001b[39m.\u001b[39m_forward_pre_hooks\n\u001b[1;32m   1525\u001b[0m         \u001b[39mor\u001b[39;00m _global_backward_pre_hooks \u001b[39mor\u001b[39;00m _global_backward_hooks\n\u001b[1;32m   1526\u001b[0m         \u001b[39mor\u001b[39;00m _global_forward_hooks \u001b[39mor\u001b[39;00m _global_forward_pre_hooks):\n\u001b[0;32m-> 1527\u001b[0m     \u001b[39mreturn\u001b[39;00m forward_call(\u001b[39m*\u001b[39;49margs, \u001b[39m*\u001b[39;49m\u001b[39m*\u001b[39;49mkwargs)\n\u001b[1;32m   1529\u001b[0m \u001b[39mtry\u001b[39;00m:\n\u001b[1;32m   1530\u001b[0m     result \u001b[39m=\u001b[39m \u001b[39mNone\u001b[39;00m\n",
      "File \u001b[0;32m/Library/Frameworks/Python.framework/Versions/3.11/lib/python3.11/site-packages/torch/nn/modules/pooling.py:166\u001b[0m, in \u001b[0;36mMaxPool2d.forward\u001b[0;34m(self, input)\u001b[0m\n\u001b[1;32m    165\u001b[0m \u001b[39mdef\u001b[39;00m \u001b[39mforward\u001b[39m(\u001b[39mself\u001b[39m, \u001b[39minput\u001b[39m: Tensor):\n\u001b[0;32m--> 166\u001b[0m     \u001b[39mreturn\u001b[39;00m F\u001b[39m.\u001b[39;49mmax_pool2d(\u001b[39minput\u001b[39;49m, \u001b[39mself\u001b[39;49m\u001b[39m.\u001b[39;49mkernel_size, \u001b[39mself\u001b[39;49m\u001b[39m.\u001b[39;49mstride,\n\u001b[1;32m    167\u001b[0m                         \u001b[39mself\u001b[39;49m\u001b[39m.\u001b[39;49mpadding, \u001b[39mself\u001b[39;49m\u001b[39m.\u001b[39;49mdilation, ceil_mode\u001b[39m=\u001b[39;49m\u001b[39mself\u001b[39;49m\u001b[39m.\u001b[39;49mceil_mode,\n\u001b[1;32m    168\u001b[0m                         return_indices\u001b[39m=\u001b[39;49m\u001b[39mself\u001b[39;49m\u001b[39m.\u001b[39;49mreturn_indices)\n",
      "File \u001b[0;32m/Library/Frameworks/Python.framework/Versions/3.11/lib/python3.11/site-packages/torch/_jit_internal.py:488\u001b[0m, in \u001b[0;36mboolean_dispatch.<locals>.fn\u001b[0;34m(*args, **kwargs)\u001b[0m\n\u001b[1;32m    486\u001b[0m     \u001b[39mreturn\u001b[39;00m if_true(\u001b[39m*\u001b[39margs, \u001b[39m*\u001b[39m\u001b[39m*\u001b[39mkwargs)\n\u001b[1;32m    487\u001b[0m \u001b[39melse\u001b[39;00m:\n\u001b[0;32m--> 488\u001b[0m     \u001b[39mreturn\u001b[39;00m if_false(\u001b[39m*\u001b[39;49margs, \u001b[39m*\u001b[39;49m\u001b[39m*\u001b[39;49mkwargs)\n",
      "File \u001b[0;32m/Library/Frameworks/Python.framework/Versions/3.11/lib/python3.11/site-packages/torch/nn/functional.py:791\u001b[0m, in \u001b[0;36m_max_pool2d\u001b[0;34m(input, kernel_size, stride, padding, dilation, ceil_mode, return_indices)\u001b[0m\n\u001b[1;32m    789\u001b[0m \u001b[39mif\u001b[39;00m stride \u001b[39mis\u001b[39;00m \u001b[39mNone\u001b[39;00m:\n\u001b[1;32m    790\u001b[0m     stride \u001b[39m=\u001b[39m torch\u001b[39m.\u001b[39mjit\u001b[39m.\u001b[39mannotate(List[\u001b[39mint\u001b[39m], [])\n\u001b[0;32m--> 791\u001b[0m \u001b[39mreturn\u001b[39;00m torch\u001b[39m.\u001b[39;49mmax_pool2d(\u001b[39minput\u001b[39;49m, kernel_size, stride, padding, dilation, ceil_mode)\n",
      "\u001b[0;31mKeyboardInterrupt\u001b[0m: "
     ]
    }
   ],
   "source": [
    "import torch\n",
    "import torch.nn as nn\n",
    "import torch.optim as optim\n",
    "from torch.utils.data import DataLoader\n",
    "from tqdm import tqdm\n",
    "import matplotlib.pyplot as plt  # Import matplotlib for plotting\n",
    "\n",
    "# Assuming you have already defined train_loader and valid_loader\n",
    "# Also, assuming you have a function compute_accuracy(outputs, labels) to compute accuracy\n",
    "\n",
    "# Instantiate the model\n",
    "model = CustomCNN2()\n",
    "device = \"cpu\"\n",
    "# Set device (GPU if available, else CPU)\n",
    "if(torch.cuda.is_available()):\n",
    "    device = torch.device(\"cuda\")\n",
    "model.to(device)\n",
    "\n",
    "\n",
    "# Define loss function and optimizer\n",
    "criterion = nn.CrossEntropyLoss()\n",
    "optimizer = optim.Adam(model.parameters(), lr=0.1)\n",
    "\n",
    "# Training loop with tqdm progress bar\n",
    "num_epochs = 128\n",
    "\n",
    "# Lists to store training and validation loss\n",
    "train_losses = []\n",
    "valid_losses = []\n",
    "\n",
    "# Lists to store training and validation accuracy\n",
    "train_accuracies = []\n",
    "valid_accuracies = []\n",
    "\n",
    "early_stopping = 0\n",
    "best_acc = 0\n",
    "patience = 10\n",
    "\n",
    "for epoch in range(num_epochs):\n",
    "    model.train()\n",
    "    running_loss = 0.0\n",
    "\n",
    "    # Wrap train_loader with tqdm for the progress bar\n",
    "    for inputs, labels in tqdm(train_loader, desc=f'Epoch {epoch + 1}/{num_epochs}', unit='batch'):\n",
    "        inputs, labels = inputs.to(device), labels.to(device)\n",
    "\n",
    "        optimizer.zero_grad()\n",
    "\n",
    "        outputs = model(inputs)\n",
    "        loss = criterion(outputs, labels)\n",
    "        loss.backward()\n",
    "        optimizer.step()\n",
    "\n",
    "        running_loss += loss.item()\n",
    "\n",
    "    # Calculate average training loss for the epoch\n",
    "    avg_train_loss = running_loss / len(train_loader)\n",
    "    train_losses.append(avg_train_loss)\n",
    "\n",
    "    # Validation loop\n",
    "    model.eval()\n",
    "    valid_loss = 0.0\n",
    "    correct_preds = 0\n",
    "    total_samples = 0\n",
    "\n",
    "    with torch.no_grad():\n",
    "        for inputs, labels in valid_loader:\n",
    "            inputs, labels = inputs.to(device), labels.to(device)\n",
    "\n",
    "            outputs = model(inputs)\n",
    "            loss = criterion(outputs, labels)\n",
    "            valid_loss += loss.item()\n",
    "\n",
    "            # Calculate validation accuracy\n",
    "            _, predicted = torch.max(outputs, 1)\n",
    "            correct_preds += (predicted == labels).sum().item()\n",
    "            total_samples += labels.size(0)\n",
    "\n",
    "    avg_valid_loss = valid_loss / len(valid_loader)\n",
    "    valid_losses.append(avg_valid_loss)\n",
    "\n",
    "    accuracy = correct_preds / total_samples\n",
    "    valid_accuracies.append(accuracy)\n",
    "    \n",
    "    if best_acc < accuracy:\n",
    "        best_acc = accuracy\n",
    "        early_stopping = 0\n",
    "    else:\n",
    "        early_stopping +=1 \n",
    "        \n",
    "    if early_stopping >= patience:\n",
    "        break\n",
    "\n",
    "    # Print and plot the results\n",
    "    print(f\"Epoch {epoch + 1}/{num_epochs}, Training Loss: {avg_train_loss}, Validation Loss: {avg_valid_loss}, Accuracy: {accuracy}\")\n",
    "\n",
    "# Plotting\n",
    "plt.figure(figsize=(12, 4))\n",
    "\n",
    "# Plot Training and Validation Loss\n",
    "plt.subplot(1, 2, 1)\n",
    "plt.plot(train_losses, label='Training Loss')\n",
    "plt.plot(valid_losses, label='Validation Loss')\n",
    "plt.xlabel('Epoch')\n",
    "plt.ylabel('Loss')\n",
    "plt.title('Training and Validation Loss')\n",
    "plt.legend()\n",
    "\n",
    "# Plot Training and Validation Accuracy\n",
    "plt.subplot(1, 2, 2)\n",
    "plt.plot(train_accuracies, label='Training Accuracy')\n",
    "plt.plot(valid_accuracies, label='Validation Accuracy')\n",
    "plt.xlabel('Epoch')\n",
    "plt.ylabel('Accuracy')\n",
    "plt.title('Training and Validation Accuracy')\n",
    "plt.legend()\n",
    "\n",
    "plt.tight_layout()\n",
    "plt.show()\n"
   ]
  },
  {
   "cell_type": "code",
   "execution_count": 55,
   "metadata": {},
   "outputs": [
    {
     "name": "stdout",
     "output_type": "stream",
     "text": [
      "Predictions are saved\n"
     ]
    }
   ],
   "source": [
    "import os\n",
    "import pandas as pd\n",
    "from torchvision.datasets import ImageFolder\n",
    "from torchvision import transforms\n",
    "from torch.utils.data import DataLoader\n",
    "\n",
    "test_transform = transforms.Compose([\n",
    "    transforms.Resize(32),  # Adjust size as needed\n",
    "    transforms.ToTensor(),\n",
    "])\n",
    "\n",
    "#make test data loader as was done for training dataset\n",
    "test_dataset = ImageFolder(root='./dataset/test_folder', transform=test_transform)\n",
    "test_loader = DataLoader(test_dataset, batch_size=128, shuffle=False)\n",
    "\n",
    "#go into evaluation mode\n",
    "model.eval()\n",
    "\n",
    "predictions = []\n",
    "\n",
    "#Get numerical filenames from the dataset\n",
    "numerical_file_names = [int(os.path.splitext(os.path.basename(path))[0]) for path, _ in test_dataset.imgs]\n",
    "\n",
    "#Make predictions on the test set\n",
    "with torch.no_grad():\n",
    "    for inputs, _ in test_loader:\n",
    "        inputs = inputs.to(device)\n",
    "        outputs = model(inputs)\n",
    "        _, predicted = torch.max(outputs, 1)\n",
    "        predictions.extend(predicted.cpu().numpy())\n",
    "\n",
    "#Convert class indices to class names\n",
    "class_names = [train_dataset.classes[i] for i in predictions]\n",
    "\n",
    "#Create a DataFrame with 'id' and 'label' columns\n",
    "df = pd.DataFrame({\n",
    "    'id': numerical_file_names,\n",
    "    'label': class_names\n",
    "})\n",
    "\n",
    "#Sort the DataFrame by 'id'\n",
    "df = df.sort_values(by='id')\n",
    "\n",
    "#Save the DataFrame to a CSV file\n",
    "df.to_csv('predictionsNEWCNN3.csv', index=False)\n",
    "\n",
    "print(\"Predictions are saved\")\n"
   ]
  },
  {
   "cell_type": "code",
   "execution_count": null,
   "metadata": {},
   "outputs": [],
   "source": []
  }
 ],
 "metadata": {
  "kernelspec": {
   "display_name": "Python 3 (ipykernel)",
   "language": "python",
   "name": "python3"
  },
  "language_info": {
   "codemirror_mode": {
    "name": "ipython",
    "version": 3
   },
   "file_extension": ".py",
   "mimetype": "text/x-python",
   "name": "python",
   "nbconvert_exporter": "python",
   "pygments_lexer": "ipython3",
   "version": "3.11.5"
  }
 },
 "nbformat": 4,
 "nbformat_minor": 2
}
